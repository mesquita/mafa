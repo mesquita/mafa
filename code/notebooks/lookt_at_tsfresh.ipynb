{
 "cells": [
  {
   "cell_type": "code",
   "execution_count": 1,
   "metadata": {},
   "outputs": [],
   "source": [
    "%load_ext autoreload\n",
    "%autoreload 2"
   ]
  },
  {
   "cell_type": "code",
   "execution_count": 2,
   "metadata": {},
   "outputs": [],
   "source": [
    "import numpy as np\n",
    "import pandas as pd\n",
    "\n",
    "import matplotlib.pyplot as plt\n",
    "from IPython.display import Image\n",
    "import tsfresh as tf \n",
    "from tsfresh.utilities.dataframe_functions import impute\n",
    "\n",
    "import matplotlib.style as style \n",
    "\n",
    "plt.rcParams['font.size'] = 20\n",
    "plt.rcParams['axes.labelsize'] = 20\n",
    "plt.rcParams['axes.labelweight'] = 'bold'\n",
    "plt.rcParams['xtick.labelsize'] = 15\n",
    "plt.rcParams['ytick.labelsize'] = 15\n",
    "plt.rcParams['legend.fontsize'] = 20\n",
    "plt.rcParams['figure.titlesize'] = 12\n",
    "plt.rcParams['figure.figsize'] = 10, 8\n",
    "plt.rcParams['text.usetex'] = True"
   ]
  },
  {
   "cell_type": "code",
   "execution_count": 3,
   "metadata": {},
   "outputs": [],
   "source": [
    "filepath = 'data/normal/12.288.csv'"
   ]
  },
  {
   "cell_type": "code",
   "execution_count": 4,
   "metadata": {},
   "outputs": [],
   "source": [
    "df_normal = pd.read_csv(filepath, names=['tachometer', 'underhang_1', 'underhang_2', 'underhang_3', 'overhang_1', 'overhang_2', 'overhang_3', 'microphone'])"
   ]
  },
  {
   "cell_type": "code",
   "execution_count": 5,
   "metadata": {},
   "outputs": [],
   "source": [
    "df_normal = df_normal[0:500]"
   ]
  },
  {
   "cell_type": "code",
   "execution_count": 6,
   "metadata": {},
   "outputs": [
    {
     "data": {
      "text/html": [
       "<div>\n",
       "<style scoped>\n",
       "    .dataframe tbody tr th:only-of-type {\n",
       "        vertical-align: middle;\n",
       "    }\n",
       "\n",
       "    .dataframe tbody tr th {\n",
       "        vertical-align: top;\n",
       "    }\n",
       "\n",
       "    .dataframe thead th {\n",
       "        text-align: right;\n",
       "    }\n",
       "</style>\n",
       "<table border=\"1\" class=\"dataframe\">\n",
       "  <thead>\n",
       "    <tr style=\"text-align: right;\">\n",
       "      <th></th>\n",
       "      <th>tachometer</th>\n",
       "      <th>underhang_1</th>\n",
       "      <th>underhang_2</th>\n",
       "      <th>underhang_3</th>\n",
       "      <th>overhang_1</th>\n",
       "      <th>overhang_2</th>\n",
       "      <th>overhang_3</th>\n",
       "      <th>microphone</th>\n",
       "    </tr>\n",
       "  </thead>\n",
       "  <tbody>\n",
       "    <tr>\n",
       "      <th>0</th>\n",
       "      <td>4.5595</td>\n",
       "      <td>0.175200</td>\n",
       "      <td>0.287210</td>\n",
       "      <td>-0.017751</td>\n",
       "      <td>-0.41565</td>\n",
       "      <td>0.032459</td>\n",
       "      <td>-0.11218</td>\n",
       "      <td>-0.128140</td>\n",
       "    </tr>\n",
       "    <tr>\n",
       "      <th>1</th>\n",
       "      <td>4.6038</td>\n",
       "      <td>-0.051295</td>\n",
       "      <td>-0.194050</td>\n",
       "      <td>-0.060071</td>\n",
       "      <td>-0.41809</td>\n",
       "      <td>0.036547</td>\n",
       "      <td>-0.11043</td>\n",
       "      <td>0.118310</td>\n",
       "    </tr>\n",
       "    <tr>\n",
       "      <th>2</th>\n",
       "      <td>4.5703</td>\n",
       "      <td>-0.969080</td>\n",
       "      <td>0.038033</td>\n",
       "      <td>-0.028329</td>\n",
       "      <td>-0.43081</td>\n",
       "      <td>0.041924</td>\n",
       "      <td>-0.14331</td>\n",
       "      <td>-0.071527</td>\n",
       "    </tr>\n",
       "    <tr>\n",
       "      <th>3</th>\n",
       "      <td>4.5870</td>\n",
       "      <td>0.891270</td>\n",
       "      <td>0.072973</td>\n",
       "      <td>0.007453</td>\n",
       "      <td>-0.40017</td>\n",
       "      <td>0.041090</td>\n",
       "      <td>-0.11984</td>\n",
       "      <td>0.043445</td>\n",
       "    </tr>\n",
       "    <tr>\n",
       "      <th>4</th>\n",
       "      <td>4.5887</td>\n",
       "      <td>-1.716000</td>\n",
       "      <td>-0.329290</td>\n",
       "      <td>-0.033063</td>\n",
       "      <td>-0.50281</td>\n",
       "      <td>0.040474</td>\n",
       "      <td>-0.25270</td>\n",
       "      <td>0.023901</td>\n",
       "    </tr>\n",
       "  </tbody>\n",
       "</table>\n",
       "</div>"
      ],
      "text/plain": [
       "   tachometer  underhang_1  underhang_2  underhang_3  overhang_1  overhang_2  \\\n",
       "0      4.5595     0.175200     0.287210    -0.017751    -0.41565    0.032459   \n",
       "1      4.6038    -0.051295    -0.194050    -0.060071    -0.41809    0.036547   \n",
       "2      4.5703    -0.969080     0.038033    -0.028329    -0.43081    0.041924   \n",
       "3      4.5870     0.891270     0.072973     0.007453    -0.40017    0.041090   \n",
       "4      4.5887    -1.716000    -0.329290    -0.033063    -0.50281    0.040474   \n",
       "\n",
       "   overhang_3  microphone  \n",
       "0    -0.11218   -0.128140  \n",
       "1    -0.11043    0.118310  \n",
       "2    -0.14331   -0.071527  \n",
       "3    -0.11984    0.043445  \n",
       "4    -0.25270    0.023901  "
      ]
     },
     "execution_count": 6,
     "metadata": {},
     "output_type": "execute_result"
    }
   ],
   "source": [
    "df_normal.head()"
   ]
  },
  {
   "cell_type": "code",
   "execution_count": 7,
   "metadata": {},
   "outputs": [],
   "source": [
    "filepath = 'data/imbalance/6g/13.9264.csv'"
   ]
  },
  {
   "cell_type": "code",
   "execution_count": 8,
   "metadata": {},
   "outputs": [],
   "source": [
    "df_falha = df = pd.read_csv(filepath, names=['tachometer', 'underhang_1', 'underhang_2', 'underhang_3', 'overhang_1', 'overhang_2', 'overhang_3', 'microphone'])"
   ]
  },
  {
   "cell_type": "code",
   "execution_count": 9,
   "metadata": {},
   "outputs": [],
   "source": [
    "df_falha = df_falha[0:500]"
   ]
  },
  {
   "cell_type": "code",
   "execution_count": 10,
   "metadata": {
    "scrolled": true
   },
   "outputs": [
    {
     "data": {
      "text/html": [
       "<div>\n",
       "<style scoped>\n",
       "    .dataframe tbody tr th:only-of-type {\n",
       "        vertical-align: middle;\n",
       "    }\n",
       "\n",
       "    .dataframe tbody tr th {\n",
       "        vertical-align: top;\n",
       "    }\n",
       "\n",
       "    .dataframe thead th {\n",
       "        text-align: right;\n",
       "    }\n",
       "</style>\n",
       "<table border=\"1\" class=\"dataframe\">\n",
       "  <thead>\n",
       "    <tr style=\"text-align: right;\">\n",
       "      <th></th>\n",
       "      <th>tachometer</th>\n",
       "      <th>underhang_1</th>\n",
       "      <th>underhang_2</th>\n",
       "      <th>underhang_3</th>\n",
       "      <th>overhang_1</th>\n",
       "      <th>overhang_2</th>\n",
       "      <th>overhang_3</th>\n",
       "      <th>microphone</th>\n",
       "    </tr>\n",
       "  </thead>\n",
       "  <tbody>\n",
       "    <tr>\n",
       "      <th>0</th>\n",
       "      <td>-0.59640</td>\n",
       "      <td>1.65690</td>\n",
       "      <td>0.20359</td>\n",
       "      <td>0.048174</td>\n",
       "      <td>-0.18477</td>\n",
       "      <td>-0.021301</td>\n",
       "      <td>-0.18447</td>\n",
       "      <td>-0.017205</td>\n",
       "    </tr>\n",
       "    <tr>\n",
       "      <th>1</th>\n",
       "      <td>-0.52322</td>\n",
       "      <td>-0.28902</td>\n",
       "      <td>-0.31740</td>\n",
       "      <td>-0.001449</td>\n",
       "      <td>-0.19779</td>\n",
       "      <td>-0.023694</td>\n",
       "      <td>-0.28712</td>\n",
       "      <td>-0.018203</td>\n",
       "    </tr>\n",
       "    <tr>\n",
       "      <th>2</th>\n",
       "      <td>-0.55320</td>\n",
       "      <td>1.64770</td>\n",
       "      <td>0.41715</td>\n",
       "      <td>0.038655</td>\n",
       "      <td>-0.18563</td>\n",
       "      <td>-0.021564</td>\n",
       "      <td>-0.21215</td>\n",
       "      <td>-0.072039</td>\n",
       "    </tr>\n",
       "    <tr>\n",
       "      <th>3</th>\n",
       "      <td>-0.57723</td>\n",
       "      <td>0.15914</td>\n",
       "      <td>-0.33321</td>\n",
       "      <td>-0.011148</td>\n",
       "      <td>-0.19892</td>\n",
       "      <td>-0.025401</td>\n",
       "      <td>-0.30076</td>\n",
       "      <td>-0.007373</td>\n",
       "    </tr>\n",
       "    <tr>\n",
       "      <th>4</th>\n",
       "      <td>-0.49280</td>\n",
       "      <td>1.31650</td>\n",
       "      <td>0.41147</td>\n",
       "      <td>0.028096</td>\n",
       "      <td>-0.19165</td>\n",
       "      <td>-0.022879</td>\n",
       "      <td>-0.24147</td>\n",
       "      <td>-0.108590</td>\n",
       "    </tr>\n",
       "  </tbody>\n",
       "</table>\n",
       "</div>"
      ],
      "text/plain": [
       "   tachometer  underhang_1  underhang_2  underhang_3  overhang_1  overhang_2  \\\n",
       "0    -0.59640      1.65690      0.20359     0.048174    -0.18477   -0.021301   \n",
       "1    -0.52322     -0.28902     -0.31740    -0.001449    -0.19779   -0.023694   \n",
       "2    -0.55320      1.64770      0.41715     0.038655    -0.18563   -0.021564   \n",
       "3    -0.57723      0.15914     -0.33321    -0.011148    -0.19892   -0.025401   \n",
       "4    -0.49280      1.31650      0.41147     0.028096    -0.19165   -0.022879   \n",
       "\n",
       "   overhang_3  microphone  \n",
       "0    -0.18447   -0.017205  \n",
       "1    -0.28712   -0.018203  \n",
       "2    -0.21215   -0.072039  \n",
       "3    -0.30076   -0.007373  \n",
       "4    -0.24147   -0.108590  "
      ]
     },
     "execution_count": 10,
     "metadata": {},
     "output_type": "execute_result"
    }
   ],
   "source": [
    "df_falha.head()"
   ]
  },
  {
   "cell_type": "code",
   "execution_count": 11,
   "metadata": {},
   "outputs": [
    {
     "data": {
      "text/plain": [
       "(500, 8)"
      ]
     },
     "execution_count": 11,
     "metadata": {},
     "output_type": "execute_result"
    }
   ],
   "source": [
    "df_falha.shape"
   ]
  },
  {
   "cell_type": "code",
   "execution_count": null,
   "metadata": {},
   "outputs": [],
   "source": []
  },
  {
   "cell_type": "code",
   "execution_count": 12,
   "metadata": {},
   "outputs": [],
   "source": [
    "df = pd.concat([df_falha, df_normal])"
   ]
  },
  {
   "cell_type": "code",
   "execution_count": 13,
   "metadata": {},
   "outputs": [
    {
     "data": {
      "text/plain": [
       "(1000, 8)"
      ]
     },
     "execution_count": 13,
     "metadata": {},
     "output_type": "execute_result"
    }
   ],
   "source": [
    "df.shape"
   ]
  },
  {
   "cell_type": "code",
   "execution_count": 14,
   "metadata": {},
   "outputs": [],
   "source": [
    "df['index'] = df.index"
   ]
  },
  {
   "cell_type": "code",
   "execution_count": 15,
   "metadata": {},
   "outputs": [],
   "source": [
    "y_cima = pd.Series(np.ones(500))\n",
    "y_baixo = pd.Series(np.zeros(500))"
   ]
  },
  {
   "cell_type": "code",
   "execution_count": 16,
   "metadata": {},
   "outputs": [],
   "source": [
    "y = pd.concat([y_cima, y_baixo])"
   ]
  },
  {
   "cell_type": "code",
   "execution_count": 17,
   "metadata": {},
   "outputs": [
    {
     "data": {
      "text/plain": [
       "(1000,)"
      ]
     },
     "execution_count": 17,
     "metadata": {},
     "output_type": "execute_result"
    }
   ],
   "source": [
    "y.shape"
   ]
  },
  {
   "cell_type": "code",
   "execution_count": 18,
   "metadata": {},
   "outputs": [],
   "source": [
    "extraction_settings = tf.feature_extraction.EfficientFCParameters()"
   ]
  },
  {
   "cell_type": "code",
   "execution_count": 19,
   "metadata": {},
   "outputs": [
    {
     "data": {
      "text/plain": [
       "1000"
      ]
     },
     "execution_count": 19,
     "metadata": {},
     "output_type": "execute_result"
    }
   ],
   "source": [
    "y.shape[0]"
   ]
  },
  {
   "cell_type": "code",
   "execution_count": 20,
   "metadata": {},
   "outputs": [
    {
     "data": {
      "text/plain": [
       "(1000, 9)"
      ]
     },
     "execution_count": 20,
     "metadata": {},
     "output_type": "execute_result"
    }
   ],
   "source": [
    "df.shape"
   ]
  },
  {
   "cell_type": "code",
   "execution_count": 21,
   "metadata": {},
   "outputs": [
    {
     "data": {
      "text/plain": [
       "(1000,)"
      ]
     },
     "execution_count": 21,
     "metadata": {},
     "output_type": "execute_result"
    }
   ],
   "source": [
    "y.shape"
   ]
  },
  {
   "cell_type": "code",
   "execution_count": 22,
   "metadata": {},
   "outputs": [],
   "source": [
    "# X = tf.extract_features(df, column_id='index', default_fc_parameters=extraction_settings, impute_function= impute)"
   ]
  },
  {
   "cell_type": "code",
   "execution_count": 23,
   "metadata": {},
   "outputs": [],
   "source": [
    "# X_filtered = tf.extract_relevant_features(df, y, column_id='index', default_fc_parameters=extraction_settings)"
   ]
  },
  {
   "cell_type": "code",
   "execution_count": 24,
   "metadata": {},
   "outputs": [],
   "source": [
    "# X_filtered.shape"
   ]
  },
  {
   "cell_type": "code",
   "execution_count": null,
   "metadata": {},
   "outputs": [],
   "source": []
  },
  {
   "cell_type": "markdown",
   "metadata": {},
   "source": [
    "## Tentando minimal parameters"
   ]
  },
  {
   "cell_type": "code",
   "execution_count": 37,
   "metadata": {},
   "outputs": [],
   "source": [
    "extraction_settings = tf.feature_extraction.MinimalFCParameters()\n",
    "del extraction_settings[\"length\"]"
   ]
  },
  {
   "cell_type": "code",
   "execution_count": 38,
   "metadata": {},
   "outputs": [
    {
     "data": {
      "text/plain": [
       "{'sum_values': None,\n",
       " 'median': None,\n",
       " 'mean': None,\n",
       " 'standard_deviation': None,\n",
       " 'variance': None,\n",
       " 'maximum': None,\n",
       " 'minimum': None}"
      ]
     },
     "execution_count": 38,
     "metadata": {},
     "output_type": "execute_result"
    }
   ],
   "source": [
    "extraction_settings"
   ]
  },
  {
   "cell_type": "code",
   "execution_count": 26,
   "metadata": {},
   "outputs": [
    {
     "name": "stderr",
     "output_type": "stream",
     "text": [
      "Feature Extraction: 100%|██████████| 10/10 [00:00<00:00, 11.03it/s]\n"
     ]
    }
   ],
   "source": [
    "X = tf.extract_features(df, column_id='index', default_fc_parameters=extraction_settings, impute_function= impute)"
   ]
  },
  {
   "cell_type": "code",
   "execution_count": 27,
   "metadata": {},
   "outputs": [
    {
     "data": {
      "text/plain": [
       "(500, 56)"
      ]
     },
     "execution_count": 27,
     "metadata": {},
     "output_type": "execute_result"
    }
   ],
   "source": [
    "X.shape"
   ]
  },
  {
   "cell_type": "code",
   "execution_count": 28,
   "metadata": {},
   "outputs": [
    {
     "data": {
      "text/html": [
       "<div>\n",
       "<style scoped>\n",
       "    .dataframe tbody tr th:only-of-type {\n",
       "        vertical-align: middle;\n",
       "    }\n",
       "\n",
       "    .dataframe tbody tr th {\n",
       "        vertical-align: top;\n",
       "    }\n",
       "\n",
       "    .dataframe thead th {\n",
       "        text-align: right;\n",
       "    }\n",
       "</style>\n",
       "<table border=\"1\" class=\"dataframe\">\n",
       "  <thead>\n",
       "    <tr style=\"text-align: right;\">\n",
       "      <th></th>\n",
       "      <th>tachometer</th>\n",
       "      <th>underhang_1</th>\n",
       "      <th>underhang_2</th>\n",
       "      <th>underhang_3</th>\n",
       "      <th>overhang_1</th>\n",
       "      <th>overhang_2</th>\n",
       "      <th>overhang_3</th>\n",
       "      <th>microphone</th>\n",
       "      <th>index</th>\n",
       "    </tr>\n",
       "  </thead>\n",
       "  <tbody>\n",
       "    <tr>\n",
       "      <th>0</th>\n",
       "      <td>-0.59640</td>\n",
       "      <td>1.65690</td>\n",
       "      <td>0.20359</td>\n",
       "      <td>0.048174</td>\n",
       "      <td>-0.18477</td>\n",
       "      <td>-0.021301</td>\n",
       "      <td>-0.18447</td>\n",
       "      <td>-0.017205</td>\n",
       "      <td>0</td>\n",
       "    </tr>\n",
       "    <tr>\n",
       "      <th>1</th>\n",
       "      <td>-0.52322</td>\n",
       "      <td>-0.28902</td>\n",
       "      <td>-0.31740</td>\n",
       "      <td>-0.001449</td>\n",
       "      <td>-0.19779</td>\n",
       "      <td>-0.023694</td>\n",
       "      <td>-0.28712</td>\n",
       "      <td>-0.018203</td>\n",
       "      <td>1</td>\n",
       "    </tr>\n",
       "    <tr>\n",
       "      <th>2</th>\n",
       "      <td>-0.55320</td>\n",
       "      <td>1.64770</td>\n",
       "      <td>0.41715</td>\n",
       "      <td>0.038655</td>\n",
       "      <td>-0.18563</td>\n",
       "      <td>-0.021564</td>\n",
       "      <td>-0.21215</td>\n",
       "      <td>-0.072039</td>\n",
       "      <td>2</td>\n",
       "    </tr>\n",
       "    <tr>\n",
       "      <th>3</th>\n",
       "      <td>-0.57723</td>\n",
       "      <td>0.15914</td>\n",
       "      <td>-0.33321</td>\n",
       "      <td>-0.011148</td>\n",
       "      <td>-0.19892</td>\n",
       "      <td>-0.025401</td>\n",
       "      <td>-0.30076</td>\n",
       "      <td>-0.007373</td>\n",
       "      <td>3</td>\n",
       "    </tr>\n",
       "    <tr>\n",
       "      <th>4</th>\n",
       "      <td>-0.49280</td>\n",
       "      <td>1.31650</td>\n",
       "      <td>0.41147</td>\n",
       "      <td>0.028096</td>\n",
       "      <td>-0.19165</td>\n",
       "      <td>-0.022879</td>\n",
       "      <td>-0.24147</td>\n",
       "      <td>-0.108590</td>\n",
       "      <td>4</td>\n",
       "    </tr>\n",
       "  </tbody>\n",
       "</table>\n",
       "</div>"
      ],
      "text/plain": [
       "   tachometer  underhang_1  underhang_2  underhang_3  overhang_1  overhang_2  \\\n",
       "0    -0.59640      1.65690      0.20359     0.048174    -0.18477   -0.021301   \n",
       "1    -0.52322     -0.28902     -0.31740    -0.001449    -0.19779   -0.023694   \n",
       "2    -0.55320      1.64770      0.41715     0.038655    -0.18563   -0.021564   \n",
       "3    -0.57723      0.15914     -0.33321    -0.011148    -0.19892   -0.025401   \n",
       "4    -0.49280      1.31650      0.41147     0.028096    -0.19165   -0.022879   \n",
       "\n",
       "   overhang_3  microphone  index  \n",
       "0    -0.18447   -0.017205      0  \n",
       "1    -0.28712   -0.018203      1  \n",
       "2    -0.21215   -0.072039      2  \n",
       "3    -0.30076   -0.007373      3  \n",
       "4    -0.24147   -0.108590      4  "
      ]
     },
     "execution_count": 28,
     "metadata": {},
     "output_type": "execute_result"
    }
   ],
   "source": [
    "df.head()"
   ]
  },
  {
   "cell_type": "code",
   "execution_count": 29,
   "metadata": {},
   "outputs": [
    {
     "data": {
      "text/html": [
       "<div>\n",
       "<style scoped>\n",
       "    .dataframe tbody tr th:only-of-type {\n",
       "        vertical-align: middle;\n",
       "    }\n",
       "\n",
       "    .dataframe tbody tr th {\n",
       "        vertical-align: top;\n",
       "    }\n",
       "\n",
       "    .dataframe thead th {\n",
       "        text-align: right;\n",
       "    }\n",
       "</style>\n",
       "<table border=\"1\" class=\"dataframe\">\n",
       "  <thead>\n",
       "    <tr style=\"text-align: right;\">\n",
       "      <th>variable</th>\n",
       "      <th>microphone__maximum</th>\n",
       "      <th>microphone__mean</th>\n",
       "      <th>microphone__median</th>\n",
       "      <th>microphone__minimum</th>\n",
       "      <th>microphone__standard_deviation</th>\n",
       "      <th>microphone__sum_values</th>\n",
       "      <th>microphone__variance</th>\n",
       "      <th>overhang_1__maximum</th>\n",
       "      <th>overhang_1__mean</th>\n",
       "      <th>overhang_1__median</th>\n",
       "      <th>...</th>\n",
       "      <th>underhang_2__standard_deviation</th>\n",
       "      <th>underhang_2__sum_values</th>\n",
       "      <th>underhang_2__variance</th>\n",
       "      <th>underhang_3__maximum</th>\n",
       "      <th>underhang_3__mean</th>\n",
       "      <th>underhang_3__median</th>\n",
       "      <th>underhang_3__minimum</th>\n",
       "      <th>underhang_3__standard_deviation</th>\n",
       "      <th>underhang_3__sum_values</th>\n",
       "      <th>underhang_3__variance</th>\n",
       "    </tr>\n",
       "    <tr>\n",
       "      <th>id</th>\n",
       "      <th></th>\n",
       "      <th></th>\n",
       "      <th></th>\n",
       "      <th></th>\n",
       "      <th></th>\n",
       "      <th></th>\n",
       "      <th></th>\n",
       "      <th></th>\n",
       "      <th></th>\n",
       "      <th></th>\n",
       "      <th></th>\n",
       "      <th></th>\n",
       "      <th></th>\n",
       "      <th></th>\n",
       "      <th></th>\n",
       "      <th></th>\n",
       "      <th></th>\n",
       "      <th></th>\n",
       "      <th></th>\n",
       "      <th></th>\n",
       "      <th></th>\n",
       "    </tr>\n",
       "  </thead>\n",
       "  <tbody>\n",
       "    <tr>\n",
       "      <th>0</th>\n",
       "      <td>-0.017205</td>\n",
       "      <td>-0.072673</td>\n",
       "      <td>-0.072673</td>\n",
       "      <td>-0.128140</td>\n",
       "      <td>0.055468</td>\n",
       "      <td>-0.145345</td>\n",
       "      <td>3.076644e-03</td>\n",
       "      <td>-0.18477</td>\n",
       "      <td>-0.300210</td>\n",
       "      <td>-0.300210</td>\n",
       "      <td>...</td>\n",
       "      <td>0.041810</td>\n",
       "      <td>0.490800</td>\n",
       "      <td>0.001748</td>\n",
       "      <td>0.048174</td>\n",
       "      <td>0.015212</td>\n",
       "      <td>0.015212</td>\n",
       "      <td>-0.017751</td>\n",
       "      <td>0.032962</td>\n",
       "      <td>0.030423</td>\n",
       "      <td>0.001087</td>\n",
       "    </tr>\n",
       "    <tr>\n",
       "      <th>1</th>\n",
       "      <td>0.118310</td>\n",
       "      <td>0.050053</td>\n",
       "      <td>0.050053</td>\n",
       "      <td>-0.018203</td>\n",
       "      <td>0.068256</td>\n",
       "      <td>0.100107</td>\n",
       "      <td>4.658950e-03</td>\n",
       "      <td>-0.19779</td>\n",
       "      <td>-0.307940</td>\n",
       "      <td>-0.307940</td>\n",
       "      <td>...</td>\n",
       "      <td>0.061675</td>\n",
       "      <td>-0.511450</td>\n",
       "      <td>0.003804</td>\n",
       "      <td>-0.001449</td>\n",
       "      <td>-0.030760</td>\n",
       "      <td>-0.030760</td>\n",
       "      <td>-0.060071</td>\n",
       "      <td>0.029311</td>\n",
       "      <td>-0.061521</td>\n",
       "      <td>0.000859</td>\n",
       "    </tr>\n",
       "    <tr>\n",
       "      <th>2</th>\n",
       "      <td>-0.071527</td>\n",
       "      <td>-0.071783</td>\n",
       "      <td>-0.071783</td>\n",
       "      <td>-0.072039</td>\n",
       "      <td>0.000256</td>\n",
       "      <td>-0.143566</td>\n",
       "      <td>6.553600e-08</td>\n",
       "      <td>-0.18563</td>\n",
       "      <td>-0.308220</td>\n",
       "      <td>-0.308220</td>\n",
       "      <td>...</td>\n",
       "      <td>0.189559</td>\n",
       "      <td>0.455183</td>\n",
       "      <td>0.035932</td>\n",
       "      <td>0.038655</td>\n",
       "      <td>0.005163</td>\n",
       "      <td>0.005163</td>\n",
       "      <td>-0.028329</td>\n",
       "      <td>0.033492</td>\n",
       "      <td>0.010326</td>\n",
       "      <td>0.001122</td>\n",
       "    </tr>\n",
       "    <tr>\n",
       "      <th>3</th>\n",
       "      <td>0.043445</td>\n",
       "      <td>0.018036</td>\n",
       "      <td>0.018036</td>\n",
       "      <td>-0.007373</td>\n",
       "      <td>0.025409</td>\n",
       "      <td>0.036072</td>\n",
       "      <td>6.456122e-04</td>\n",
       "      <td>-0.19892</td>\n",
       "      <td>-0.299545</td>\n",
       "      <td>-0.299545</td>\n",
       "      <td>...</td>\n",
       "      <td>0.203092</td>\n",
       "      <td>-0.260237</td>\n",
       "      <td>0.041246</td>\n",
       "      <td>0.007453</td>\n",
       "      <td>-0.001848</td>\n",
       "      <td>-0.001848</td>\n",
       "      <td>-0.011148</td>\n",
       "      <td>0.009300</td>\n",
       "      <td>-0.003695</td>\n",
       "      <td>0.000086</td>\n",
       "    </tr>\n",
       "    <tr>\n",
       "      <th>4</th>\n",
       "      <td>0.023901</td>\n",
       "      <td>-0.042345</td>\n",
       "      <td>-0.042345</td>\n",
       "      <td>-0.108590</td>\n",
       "      <td>0.066246</td>\n",
       "      <td>-0.084689</td>\n",
       "      <td>4.388466e-03</td>\n",
       "      <td>-0.19165</td>\n",
       "      <td>-0.347230</td>\n",
       "      <td>-0.347230</td>\n",
       "      <td>...</td>\n",
       "      <td>0.370380</td>\n",
       "      <td>0.082180</td>\n",
       "      <td>0.137181</td>\n",
       "      <td>0.028096</td>\n",
       "      <td>-0.002484</td>\n",
       "      <td>-0.002484</td>\n",
       "      <td>-0.033063</td>\n",
       "      <td>0.030580</td>\n",
       "      <td>-0.004967</td>\n",
       "      <td>0.000935</td>\n",
       "    </tr>\n",
       "  </tbody>\n",
       "</table>\n",
       "<p>5 rows × 56 columns</p>\n",
       "</div>"
      ],
      "text/plain": [
       "variable  microphone__maximum  microphone__mean  microphone__median  \\\n",
       "id                                                                    \n",
       "0                   -0.017205         -0.072673           -0.072673   \n",
       "1                    0.118310          0.050053            0.050053   \n",
       "2                   -0.071527         -0.071783           -0.071783   \n",
       "3                    0.043445          0.018036            0.018036   \n",
       "4                    0.023901         -0.042345           -0.042345   \n",
       "\n",
       "variable  microphone__minimum  microphone__standard_deviation  \\\n",
       "id                                                              \n",
       "0                   -0.128140                        0.055468   \n",
       "1                   -0.018203                        0.068256   \n",
       "2                   -0.072039                        0.000256   \n",
       "3                   -0.007373                        0.025409   \n",
       "4                   -0.108590                        0.066246   \n",
       "\n",
       "variable  microphone__sum_values  microphone__variance  overhang_1__maximum  \\\n",
       "id                                                                            \n",
       "0                      -0.145345          3.076644e-03             -0.18477   \n",
       "1                       0.100107          4.658950e-03             -0.19779   \n",
       "2                      -0.143566          6.553600e-08             -0.18563   \n",
       "3                       0.036072          6.456122e-04             -0.19892   \n",
       "4                      -0.084689          4.388466e-03             -0.19165   \n",
       "\n",
       "variable  overhang_1__mean  overhang_1__median          ...            \\\n",
       "id                                                      ...             \n",
       "0                -0.300210           -0.300210          ...             \n",
       "1                -0.307940           -0.307940          ...             \n",
       "2                -0.308220           -0.308220          ...             \n",
       "3                -0.299545           -0.299545          ...             \n",
       "4                -0.347230           -0.347230          ...             \n",
       "\n",
       "variable  underhang_2__standard_deviation  underhang_2__sum_values  \\\n",
       "id                                                                   \n",
       "0                                0.041810                 0.490800   \n",
       "1                                0.061675                -0.511450   \n",
       "2                                0.189559                 0.455183   \n",
       "3                                0.203092                -0.260237   \n",
       "4                                0.370380                 0.082180   \n",
       "\n",
       "variable  underhang_2__variance  underhang_3__maximum  underhang_3__mean  \\\n",
       "id                                                                         \n",
       "0                      0.001748              0.048174           0.015212   \n",
       "1                      0.003804             -0.001449          -0.030760   \n",
       "2                      0.035932              0.038655           0.005163   \n",
       "3                      0.041246              0.007453          -0.001848   \n",
       "4                      0.137181              0.028096          -0.002484   \n",
       "\n",
       "variable  underhang_3__median  underhang_3__minimum  \\\n",
       "id                                                    \n",
       "0                    0.015212             -0.017751   \n",
       "1                   -0.030760             -0.060071   \n",
       "2                    0.005163             -0.028329   \n",
       "3                   -0.001848             -0.011148   \n",
       "4                   -0.002484             -0.033063   \n",
       "\n",
       "variable  underhang_3__standard_deviation  underhang_3__sum_values  \\\n",
       "id                                                                   \n",
       "0                                0.032962                 0.030423   \n",
       "1                                0.029311                -0.061521   \n",
       "2                                0.033492                 0.010326   \n",
       "3                                0.009300                -0.003695   \n",
       "4                                0.030580                -0.004967   \n",
       "\n",
       "variable  underhang_3__variance  \n",
       "id                               \n",
       "0                      0.001087  \n",
       "1                      0.000859  \n",
       "2                      0.001122  \n",
       "3                      0.000086  \n",
       "4                      0.000935  \n",
       "\n",
       "[5 rows x 56 columns]"
      ]
     },
     "execution_count": 29,
     "metadata": {},
     "output_type": "execute_result"
    }
   ],
   "source": [
    "X.head()"
   ]
  },
  {
   "cell_type": "code",
   "execution_count": null,
   "metadata": {},
   "outputs": [],
   "source": []
  }
 ],
 "metadata": {
  "kernelspec": {
   "display_name": "Python 3",
   "language": "python",
   "name": "python3"
  },
  "language_info": {
   "codemirror_mode": {
    "name": "ipython",
    "version": 3
   },
   "file_extension": ".py",
   "mimetype": "text/x-python",
   "name": "python",
   "nbconvert_exporter": "python",
   "pygments_lexer": "ipython3",
   "version": "3.7.3"
  }
 },
 "nbformat": 4,
 "nbformat_minor": 2
}
